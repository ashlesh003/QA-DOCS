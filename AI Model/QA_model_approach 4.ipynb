{
  "nbformat": 4,
  "nbformat_minor": 0,
  "metadata": {
    "colab": {
      "provenance": []
    },
    "kernelspec": {
      "name": "python3",
      "display_name": "Python 3"
    },
    "language_info": {
      "name": "python"
    }
  },
  "cells": [
    {
      "cell_type": "code",
      "execution_count": null,
      "metadata": {
        "colab": {
          "base_uri": "https://localhost:8080/"
        },
        "collapsed": true,
        "id": "lFcXEP64Eqds",
        "outputId": "55821ce9-5f48-4008-d955-ea503dc15190"
      },
      "outputs": [
        {
          "output_type": "stream",
          "name": "stdout",
          "text": [
            "Requirement already satisfied: PyPDF2 in /usr/local/lib/python3.10/dist-packages (3.0.1)\n",
            "Requirement already satisfied: sentence-transformers in /usr/local/lib/python3.10/dist-packages (3.2.1)\n",
            "Requirement already satisfied: faiss-cpu in /usr/local/lib/python3.10/dist-packages (1.9.0.post1)\n",
            "Requirement already satisfied: transformers<5.0.0,>=4.41.0 in /usr/local/lib/python3.10/dist-packages (from sentence-transformers) (4.46.2)\n",
            "Requirement already satisfied: tqdm in /usr/local/lib/python3.10/dist-packages (from sentence-transformers) (4.66.6)\n",
            "Requirement already satisfied: torch>=1.11.0 in /usr/local/lib/python3.10/dist-packages (from sentence-transformers) (2.5.1+cu121)\n",
            "Requirement already satisfied: scikit-learn in /usr/local/lib/python3.10/dist-packages (from sentence-transformers) (1.5.2)\n",
            "Requirement already satisfied: scipy in /usr/local/lib/python3.10/dist-packages (from sentence-transformers) (1.13.1)\n",
            "Requirement already satisfied: huggingface-hub>=0.20.0 in /usr/local/lib/python3.10/dist-packages (from sentence-transformers) (0.26.2)\n",
            "Requirement already satisfied: Pillow in /usr/local/lib/python3.10/dist-packages (from sentence-transformers) (11.0.0)\n",
            "Requirement already satisfied: numpy<3.0,>=1.25.0 in /usr/local/lib/python3.10/dist-packages (from faiss-cpu) (1.26.4)\n",
            "Requirement already satisfied: packaging in /usr/local/lib/python3.10/dist-packages (from faiss-cpu) (24.2)\n",
            "Requirement already satisfied: filelock in /usr/local/lib/python3.10/dist-packages (from huggingface-hub>=0.20.0->sentence-transformers) (3.16.1)\n",
            "Requirement already satisfied: fsspec>=2023.5.0 in /usr/local/lib/python3.10/dist-packages (from huggingface-hub>=0.20.0->sentence-transformers) (2024.10.0)\n",
            "Requirement already satisfied: pyyaml>=5.1 in /usr/local/lib/python3.10/dist-packages (from huggingface-hub>=0.20.0->sentence-transformers) (6.0.2)\n",
            "Requirement already satisfied: requests in /usr/local/lib/python3.10/dist-packages (from huggingface-hub>=0.20.0->sentence-transformers) (2.32.3)\n",
            "Requirement already satisfied: typing-extensions>=3.7.4.3 in /usr/local/lib/python3.10/dist-packages (from huggingface-hub>=0.20.0->sentence-transformers) (4.12.2)\n",
            "Requirement already satisfied: networkx in /usr/local/lib/python3.10/dist-packages (from torch>=1.11.0->sentence-transformers) (3.4.2)\n",
            "Requirement already satisfied: jinja2 in /usr/local/lib/python3.10/dist-packages (from torch>=1.11.0->sentence-transformers) (3.1.4)\n",
            "Requirement already satisfied: sympy==1.13.1 in /usr/local/lib/python3.10/dist-packages (from torch>=1.11.0->sentence-transformers) (1.13.1)\n",
            "Requirement already satisfied: mpmath<1.4,>=1.1.0 in /usr/local/lib/python3.10/dist-packages (from sympy==1.13.1->torch>=1.11.0->sentence-transformers) (1.3.0)\n",
            "Requirement already satisfied: regex!=2019.12.17 in /usr/local/lib/python3.10/dist-packages (from transformers<5.0.0,>=4.41.0->sentence-transformers) (2024.9.11)\n",
            "Requirement already satisfied: safetensors>=0.4.1 in /usr/local/lib/python3.10/dist-packages (from transformers<5.0.0,>=4.41.0->sentence-transformers) (0.4.5)\n",
            "Requirement already satisfied: tokenizers<0.21,>=0.20 in /usr/local/lib/python3.10/dist-packages (from transformers<5.0.0,>=4.41.0->sentence-transformers) (0.20.3)\n",
            "Requirement already satisfied: joblib>=1.2.0 in /usr/local/lib/python3.10/dist-packages (from scikit-learn->sentence-transformers) (1.4.2)\n",
            "Requirement already satisfied: threadpoolctl>=3.1.0 in /usr/local/lib/python3.10/dist-packages (from scikit-learn->sentence-transformers) (3.5.0)\n",
            "Requirement already satisfied: MarkupSafe>=2.0 in /usr/local/lib/python3.10/dist-packages (from jinja2->torch>=1.11.0->sentence-transformers) (3.0.2)\n",
            "Requirement already satisfied: charset-normalizer<4,>=2 in /usr/local/lib/python3.10/dist-packages (from requests->huggingface-hub>=0.20.0->sentence-transformers) (3.4.0)\n",
            "Requirement already satisfied: idna<4,>=2.5 in /usr/local/lib/python3.10/dist-packages (from requests->huggingface-hub>=0.20.0->sentence-transformers) (3.10)\n",
            "Requirement already satisfied: urllib3<3,>=1.21.1 in /usr/local/lib/python3.10/dist-packages (from requests->huggingface-hub>=0.20.0->sentence-transformers) (2.2.3)\n",
            "Requirement already satisfied: certifi>=2017.4.17 in /usr/local/lib/python3.10/dist-packages (from requests->huggingface-hub>=0.20.0->sentence-transformers) (2024.8.30)\n"
          ]
        }
      ],
      "source": [
        "pip install PyPDF2 sentence-transformers faiss-cpu"
      ]
    },
    {
      "cell_type": "code",
      "source": [
        "pip install transformers"
      ],
      "metadata": {
        "colab": {
          "base_uri": "https://localhost:8080/"
        },
        "collapsed": true,
        "id": "PkX6LiLeFfjy",
        "outputId": "9606ce48-d938-4a44-8fe3-b10e374bdc1d"
      },
      "execution_count": null,
      "outputs": [
        {
          "output_type": "stream",
          "name": "stdout",
          "text": [
            "Requirement already satisfied: transformers in /usr/local/lib/python3.10/dist-packages (4.46.2)\n",
            "Requirement already satisfied: filelock in /usr/local/lib/python3.10/dist-packages (from transformers) (3.16.1)\n",
            "Requirement already satisfied: huggingface-hub<1.0,>=0.23.2 in /usr/local/lib/python3.10/dist-packages (from transformers) (0.26.2)\n",
            "Requirement already satisfied: numpy>=1.17 in /usr/local/lib/python3.10/dist-packages (from transformers) (1.26.4)\n",
            "Requirement already satisfied: packaging>=20.0 in /usr/local/lib/python3.10/dist-packages (from transformers) (24.2)\n",
            "Requirement already satisfied: pyyaml>=5.1 in /usr/local/lib/python3.10/dist-packages (from transformers) (6.0.2)\n",
            "Requirement already satisfied: regex!=2019.12.17 in /usr/local/lib/python3.10/dist-packages (from transformers) (2024.9.11)\n",
            "Requirement already satisfied: requests in /usr/local/lib/python3.10/dist-packages (from transformers) (2.32.3)\n",
            "Requirement already satisfied: safetensors>=0.4.1 in /usr/local/lib/python3.10/dist-packages (from transformers) (0.4.5)\n",
            "Requirement already satisfied: tokenizers<0.21,>=0.20 in /usr/local/lib/python3.10/dist-packages (from transformers) (0.20.3)\n",
            "Requirement already satisfied: tqdm>=4.27 in /usr/local/lib/python3.10/dist-packages (from transformers) (4.66.6)\n",
            "Requirement already satisfied: fsspec>=2023.5.0 in /usr/local/lib/python3.10/dist-packages (from huggingface-hub<1.0,>=0.23.2->transformers) (2024.10.0)\n",
            "Requirement already satisfied: typing-extensions>=3.7.4.3 in /usr/local/lib/python3.10/dist-packages (from huggingface-hub<1.0,>=0.23.2->transformers) (4.12.2)\n",
            "Requirement already satisfied: charset-normalizer<4,>=2 in /usr/local/lib/python3.10/dist-packages (from requests->transformers) (3.4.0)\n",
            "Requirement already satisfied: idna<4,>=2.5 in /usr/local/lib/python3.10/dist-packages (from requests->transformers) (3.10)\n",
            "Requirement already satisfied: urllib3<3,>=1.21.1 in /usr/local/lib/python3.10/dist-packages (from requests->transformers) (2.2.3)\n",
            "Requirement already satisfied: certifi>=2017.4.17 in /usr/local/lib/python3.10/dist-packages (from requests->transformers) (2024.8.30)\n"
          ]
        }
      ]
    },
    {
      "cell_type": "code",
      "source": [
        "!pip install PyMuPDF"
      ],
      "metadata": {
        "colab": {
          "base_uri": "https://localhost:8080/"
        },
        "id": "3YKFzajszm0N",
        "outputId": "499aeae4-b9fa-4061-9abd-0d2f9dec1c7e"
      },
      "execution_count": null,
      "outputs": [
        {
          "output_type": "stream",
          "name": "stdout",
          "text": [
            "Collecting PyMuPDF\n",
            "  Downloading PyMuPDF-1.24.14-cp39-abi3-manylinux2014_x86_64.manylinux_2_17_x86_64.whl.metadata (3.4 kB)\n",
            "Downloading PyMuPDF-1.24.14-cp39-abi3-manylinux2014_x86_64.manylinux_2_17_x86_64.whl (19.8 MB)\n",
            "\u001b[2K   \u001b[90m━━━━━━━━━━━━━━━━━━━━━━━━━━━━━━━━━━━━━━━━\u001b[0m \u001b[32m19.8/19.8 MB\u001b[0m \u001b[31m39.1 MB/s\u001b[0m eta \u001b[36m0:00:00\u001b[0m\n",
            "\u001b[?25hInstalling collected packages: PyMuPDF\n",
            "Successfully installed PyMuPDF-1.24.14\n"
          ]
        }
      ]
    },
    {
      "cell_type": "code",
      "source": [
        "import fitz\n",
        "\n",
        "def extract_text_from_pdf(pdf_path):\n",
        "    # with open(pdf_path, 'rb') as file:\n",
        "    #     reader = PyPDF2.PdfReader(file)\n",
        "    #     text = \"\"\n",
        "    #     for page_num in range(len(reader.pages)):\n",
        "    #         text += reader.pages[page_num].extract_text()\n",
        "    # # new_text = text.replace(\"\\n\", \"\")\n",
        "    # print(text)\n",
        "    # return text\n",
        "\n",
        "\n",
        "    doc = fitz.open(pdf_path)\n",
        "    text = \"\"\n",
        "    for page in doc:\n",
        "        text += page.get_text()\n",
        "    print(text)\n",
        "    return text\n",
        "\n",
        "# Usage\n",
        "pdf_text = extract_text_from_pdf('SolarSystem.pdf')\n",
        "# print(pdf_text[:500])  # Print first 500 characters of extracted text\n"
      ],
      "metadata": {
        "id": "zLs-rt-mE2tD",
        "colab": {
          "base_uri": "https://localhost:8080/"
        },
        "collapsed": true,
        "outputId": "d14c423d-353c-4ec8-8248-0b2c28fd61ce"
      },
      "execution_count": null,
      "outputs": [
        {
          "output_type": "stream",
          "name": "stdout",
          "text": [
            "The Solar System is a fascinating and complex structure, governed by the\n",
            "gravitational pull of the Sun at its center. This system consists of a variety\n",
            "of celestial bodies, including eight planets, moons, asteroids, comets, and\n",
            "more. Each planet has unique characteristics that contribute to the diversity\n",
            "of our cosmic neighborhood. The Sun provides the energy and gravitational\n",
            "force that holds the solar system together, while the planets follow elliptical\n",
            "orbits around it. In this detailed exploration, we’ll focus on the Sun, Earth,\n",
            "Mars, Jupiter, Saturn, Uranus, and Neptune, outlining their key features\n",
            "and importance within the system.\n",
            "The Sun\n",
            "The Sun is the heart of the solar system and accounts for about 99.86% of\n",
            "its total mass. It is classified as a G-type main-sequence star (often called\n",
            "a yellow dwarf) and is located approximately 93 million miles (150 million\n",
            "kilometers) from Earth. The Sun's immense gravity governs the orbits of\n",
            "all the planets and celestial objects in the solar system. Composed mostly\n",
            "of hydrogen and helium, the Sun generates energy through nuclear\n",
            "fusion, where hydrogen atoms combine to form helium, releasing energy in\n",
            "the form of light and heat.\n",
            "The Sun’s structure consists of several layers: the core, where nuclear\n",
            "fusion occurs; the radiative zone, where energy is transported outward by\n",
            "radiation; the convective zone, where energy moves by convection\n",
            "currents; and the photosphere, the visible surface. Surrounding the Sun\n",
            "are the chromosphere and corona, which can be seen during solar\n",
            "eclipses. The Sun’s solar wind—a stream of charged particles—extends\n",
            "outward, influencing the magnetic fields and atmospheres of the planets.\n",
            "Earth\n",
            "Earth is the third planet from the Sun and the only known planet to support\n",
            "life. It has a diameter of approximately 12,742 kilometers (7,918 miles)\n",
            "and is covered by vast oceans, continents, and polar ice caps. 71% of\n",
            "Earth’s surface is covered by water, which exists in all three states—solid,\n",
            "liquid, and gas—making it essential for the biodiversity found on the planet.\n",
            "Earth's atmosphere, consisting mainly of nitrogen (78%) and oxygen (21%),\n",
            "plays a crucial role in sustaining life by providing breathable air, shielding\n",
            "the planet from harmful solar radiation, and regulating temperature through\n",
            "the greenhouse effect.\n",
            "Earth’s magnetic field—generated by its molten iron core—protects the\n",
            "planet from the solar wind and cosmic radiation. The atmosphere and the\n",
            "ozone layer also block ultraviolet rays, ensuring a habitable climate.\n",
            "Earth's tectonic activity results in the movement of continents, formation\n",
            "of mountains, and occurrence of earthquakes, shaping the planet’s surface\n",
            "over time. Earth's unique position within the habitable zone allows for\n",
            "liquid water to remain stable, which, combined with a rich atmosphere,\n",
            "enables a thriving ecosystem.\n",
            "Mars\n",
            "Mars, the fourth planet from the Sun, is often referred to as the Red Planet\n",
            "due to the iron oxide (rust) on its surface, giving it a distinct reddish color.\n",
            "Mars has a diameter of 6,779 kilometers (4,212 miles), making it about\n",
            "half the size of Earth. Despite its smaller size, Mars has some of the most\n",
            "striking geological features in the solar system, including the massive\n",
            "Olympus Mons, the tallest volcano, and the Valles Marineris, a canyon\n",
            "system that dwarfs the Grand Canyon on Earth.\n",
            "Mars has a thin atmosphere composed mostly of carbon dioxide (95%),\n",
            "with traces of nitrogen and argon. This thin atmosphere provides little\n",
            "protection\n",
            "from\n",
            "solar\n",
            "radiation\n",
            "and\n",
            "results\n",
            "in\n",
            "extreme\n",
            "temperature\n",
            "fluctuations, ranging from -125°C (-195°F) at night to 20°C (68°F) during\n",
            "the day at the equator. The planet’s surface shows evidence of ancient river\n",
            "valleys and lake beds, indicating that liquid water once flowed on Mars.\n",
            "Today, water exists mainly in the form of ice at the polar caps and\n",
            "potentially as subsurface ice.\n",
            "Mars has two small moons, Phobos and Deimos, believed to be captured\n",
            "asteroids. These moons have irregular shapes and orbit close to the planet,\n",
            "with Phobos gradually spiraling inward and expected to either crash into\n",
            "Mars or break apart within millions of years.\n",
            "Jupiter\n",
            "Jupiter, the fifth planet from the Sun, is the largest planet in the solar\n",
            "system, with a diameter of 139,820 kilometers (86,881 miles)—more than\n",
            "11 times that of Earth. It is a gas giant, composed mainly of hydrogen\n",
            "(90%) and helium (10%), with trace amounts of other elements. Jupiter’s\n",
            "immense size and strong gravity have allowed it to hold onto a large\n",
            "number of moons, with 79 confirmed moons, including Ganymede, the\n",
            "largest moon in the solar system, and Europa, which may have an ocean\n",
            "beneath its icy crust.\n",
            "Jupiter is famous for its massive storms, including the Great Red Spot, a\n",
            "giant storm that has been raging for centuries and is larger than Earth. The\n",
            "planet has a strong magnetic field, about 20,000 times stronger than\n",
            "Earth’s, which creates intense radiation belts around the planet. Jupiter’s\n",
            "fast rotation—completing a full spin in just under 10 hours—results in\n",
            "strong atmospheric banding and extreme weather systems, with winds\n",
            "reaching up to 620 kilometers per hour (385 miles per hour).\n",
            "Jupiter’s Galilean moons—Io, Europa, Ganymede, and Callisto—are of\n",
            "particular interest to scientists. Io is the most volcanically active body in the\n",
            "solar system, while Europa’s subsurface ocean makes it a prime candidate\n",
            "in the search for extraterrestrial life.\n",
            "Saturn\n",
            "Saturn, the sixth planet from the Sun, is known for its stunning ring system,\n",
            "which is composed of ice, rock, and dust particles. With a diameter of\n",
            "116,460 kilometers (72,366 miles), Saturn is the second-largest planet in\n",
            "the solar system, though much less dense than Jupiter. Like Jupiter, Saturn\n",
            "is a gas giant made primarily of hydrogen and helium, and it has an\n",
            "extensive collection of moons, with 83 confirmed moons. The largest\n",
            "moon, Titan, is unique for having a dense atmosphere and lakes of liquid\n",
            "methane on its surface.\n",
            "Saturn’s rings are divided into several sections labeled A through E, with\n",
            "the Cassini Division being the most prominent gap between the rings.\n",
            "These rings are relatively thin, ranging from just 10 meters to 1 kilometer\n",
            "in thickness, but they extend outwards for 280,000 kilometers (174,000\n",
            "miles). The rings are thought to be remnants of comets, asteroids, or\n",
            "shattered moons that were torn apart by Saturn’s gravity.\n",
            "Saturn’s magnetic field, though weaker than Jupiter’s, is still strong enough\n",
            "to trap particles and produce auroras at its poles. Titan’s thick nitrogen\n",
            "atmosphere and the possibility of liquid oceans beneath the surface of\n",
            "Enceladus, another of Saturn’s moons, make these moons intriguing\n",
            "targets for further exploration.\n",
            "Uranus\n",
            "Uranus, the seventh planet from the Sun, is an ice giant with a diameter of\n",
            "50,724 kilometers (31,518 miles). Unlike Jupiter and Saturn, Uranus has\n",
            "a higher concentration of “ices” such as water, ammonia, and methane in\n",
            "its atmosphere. Methane in the upper atmosphere gives Uranus its pale\n",
            "blue color. Uranus is unique among the planets because it rotates on its\n",
            "side, with an axial tilt of 98 degrees. This unusual tilt is likely the result of a\n",
            "collision with a large object early in its history, causing extreme seasonal\n",
            "variations.\n",
            "Uranus has 13 rings and 27 known moons, the largest of which are\n",
            "Titania, Oberon, Umbriel, Ariel, and Miranda. The planet’s atmosphere is\n",
            "composed mostly of hydrogen and helium, with methane making up about\n",
            "2%, which absorbs red light and reflects blue light.\n",
            "Uranus orbits the Sun once every 84 Earth years and experiences 42\n",
            "years of continuous sunlight or darkness at its poles due to its extreme tilt.\n",
            "Uranus’ magnetic field is also unusual because it is tilted at 59 degrees\n",
            "from its rotational axis and is offset from the planet’s center, leading to\n",
            "complex and unpredictable magnetic behavior.\n",
            "Neptune\n",
            "Neptune, the eighth and farthest planet from the Sun, is another ice giant\n",
            "with a diameter of 49,244 kilometers (30,598 miles), slightly smaller than\n",
            "Uranus. Like Uranus, Neptune’s atmosphere is rich in hydrogen, helium,\n",
            "and methane, giving it a vibrant blue color. Neptune is known for its strong\n",
            "winds, which are the fastest in the solar system, reaching speeds of up to\n",
            "2,100 kilometers per hour (1,300 miles per hour).\n",
            "Neptune has six rings and 14 moons, the largest of which is Triton, a\n",
            "captured dwarf planet that orbits in the opposite direction of Neptune’s\n",
            "rotation (retrograde orbit). Triton is unique for its active cryovolcanoes,\n",
            "which erupt with nitrogen ice, making it one of the coldest objects in the\n",
            "solar system.\n",
            "Neptune completes one orbit around the Sun every 165 Earth years. It\n",
            "was the first planet to be discovered through mathematical predictions\n",
            "rather than direct observation, as its gravitational influence on Uranus led\n",
            "astronomers to hypothesize its existence.\n",
            "The Inner Planets\n",
            "The inner planets, Mercury, Venus, Earth, and Mars, are also called the\n",
            "terrestrial planets because of their rocky compositions. These planets are\n",
            "smaller, have solid surfaces, and are composed primarily of silicate rocks\n",
            "and metals. They have relatively thin atmospheres compared to the gas\n",
            "giants in the outer solar system.\n",
            "●Mercury, the closest planet to the Sun, has a surface heavily\n",
            "cratered by impacts, and its proximity to the Sun gives it extreme\n",
            "temperature fluctuations, ranging from extremely hot during the day\n",
            "to freezing at night.\n",
            "●Venus, Earth’s “sister planet,” is similar in size and composition but\n",
            "has an extremely thick atmosphere dominated by carbon dioxide,\n",
            "causing a runaway greenhouse effect. This results in surface\n",
            "temperatures exceeding 460°C (860°F), making Venus the hottest\n",
            "planet in the solar system.\n",
            "The Outer Planets\n",
            "The outer planets, also known as gas giants (Jupiter and Saturn) and\n",
            "ice giants (Uranus and Neptune), are massive compared to the inner\n",
            "planets and primarily composed of gases or ices. These planets lack solid\n",
            "surfaces and are composed mostly of hydrogen and helium.\n",
            "●Jupiter, the largest planet in the solar system, is known for its Great\n",
            "Red Spot, a massive storm larger than Earth that has been raging for\n",
            "centuries. Jupiter has over 79 moons, including Ganymede, the\n",
            "largest moon in the solar system, and Europa, which may have a\n",
            "subsurface ocean beneath its icy crust, making it a candidate in the\n",
            "search for extraterrestrial life.\n",
            "●Saturn is famous for its extensive ring system, composed of ice and\n",
            "rock particles. Saturn is also a gas giant and has numerous moons,\n",
            "including Titan, which has a thick atmosphere and liquid methane\n",
            "lakes.\n",
            "●Uranus and Neptune are classified as ice giants because they\n",
            "contain more ices, such as water, ammonia, and methane, than\n",
            "Jupiter and Saturn. Uranus is unique in that it rotates on its side,\n",
            "likely due to a collision early in its history. Neptune, the farthest\n",
            "planet from the Sun, has the fastest winds in the solar system,\n",
            "reaching speeds of up to 2,100 kilometers per hour (1,300 miles per\n",
            "hour).\n",
            "\n"
          ]
        }
      ]
    },
    {
      "cell_type": "code",
      "source": [
        "from sentence_transformers import SentenceTransformer\n",
        "import faiss\n",
        "import numpy as np\n",
        "\n",
        "# Initialize Sentence-BERT model for generating embeddings\n",
        "model = SentenceTransformer('all-MiniLM-L6-v2')\n",
        "\n",
        "# Function to split text into sentences or chunks\n",
        "def split_text_into_chunks(text, chunk_size=50):\n",
        "    sentences = text.split('. ')\n",
        "    chunks = [' '.join(sentences[i:i+chunk_size]) for i in range(0, len(sentences), chunk_size)]\n",
        "    return chunks\n",
        "\n",
        "# Generate embeddings for chunks of PDF text\n",
        "def generate_embeddings(text_chunks):\n",
        "    embeddings = model.encode(text_chunks)\n",
        "    return embeddings\n",
        "\n",
        "# Create FAISS index and store text chunks\n",
        "def create_faiss_index(embeddings):\n",
        "    dimension = embeddings.shape[1]\n",
        "    index = faiss.IndexFlatL2(dimension)  # Create a FAISS index (squared Euclidean distance)\n",
        "    index.add(np.array(embeddings))  # Add embeddings to the index\n",
        "    return index\n",
        "\n",
        "# Search FAISS index with a threshold\n",
        "def search_faiss_index(query, index, text_chunks, top_k=3, similarity_threshold=0.01):\n",
        "    query_embedding = model.encode([query])\n",
        "\n",
        "    # Search the FAISS index for the closest embeddings\n",
        "    distances, indices = index.search(np.array(query_embedding), top_k)\n",
        "\n",
        "    # Calculate cosine similarity (as FAISS uses L2 distance by default)\n",
        "    similarities = 1 - distances / 2  # FAISS distances are squared Euclidean distances\n",
        "    if similarities[0][0] < similarity_threshold:  # Check the top-1 similarity\n",
        "        return \"I don't know.\", None\n",
        "\n",
        "    results = [text_chunks[idx] for idx in indices[0]]\n",
        "    return results, similarities[0]"
      ],
      "metadata": {
        "id": "MYsolz8HFaxL"
      },
      "execution_count": null,
      "outputs": []
    },
    {
      "cell_type": "code",
      "source": [
        "# Example Usage\n",
        "text_chunks = split_text_into_chunks(pdf_text, chunk_size=50)\n",
        "embeddings = generate_embeddings(text_chunks)\n",
        "faiss_index = create_faiss_index(embeddings)"
      ],
      "metadata": {
        "id": "WRajG2-mGeXS"
      },
      "execution_count": null,
      "outputs": []
    },
    {
      "cell_type": "markdown",
      "source": [
        "# Relevent & Large Ans as well as Time Efficient"
      ],
      "metadata": {
        "id": "JwKBn14oIlTx"
      }
    },
    {
      "cell_type": "markdown",
      "source": [
        "1. Using GPT-2 to Generate Long Answers\n"
      ],
      "metadata": {
        "id": "g8IJA-LRO0a3"
      }
    },
    {
      "cell_type": "code",
      "source": [
        "from transformers import GPT2LMHeadModel, GPT2Tokenizer\n",
        "\n",
        "# Load GPT-2 model and tokenizer\n",
        "gpt2_model = GPT2LMHeadModel.from_pretrained('gpt2-large')\n",
        "gpt2_tokenizer = GPT2Tokenizer.from_pretrained('gpt2-large')\n",
        "\n",
        "# Function to generate long answers using GPT-2\n",
        "def generate_long_answer_gpt2(query, text_chunks, max_length=300):\n",
        "    input_text = f\"Q: {query}\\nA:\"\n",
        "    for chunk in text_chunks:\n",
        "        input_text += f\" {chunk}\"\n",
        "\n",
        "\n",
        "    # Set pad_token_id if not already set\n",
        "    if gpt2_tokenizer.pad_token_id is None:\n",
        "        gpt2_tokenizer.pad_token_id = gpt2_tokenizer.eos_token_id\n",
        "\n",
        "     # Tokenize input and create attention mask\n",
        "    inputs = gpt2_tokenizer.encode_plus(\n",
        "        input_text,\n",
        "        return_tensors='pt',\n",
        "        truncation=True,\n",
        "        padding='max_length',\n",
        "        max_length=max_length  # Set max_length here for padding\n",
        "    )\n",
        "\n",
        "    # Generate a long answer with attention_mask and pad_token_id\n",
        "    outputs = gpt2_model.generate(\n",
        "        inputs.input_ids,\n",
        "        attention_mask=inputs.attention_mask,  # Pass attention_mask\n",
        "        pad_token_id=gpt2_tokenizer.pad_token_id,  # Set pad_token_id\n",
        "        max_new_tokens=5,  # Limit the generated text length\n",
        "        num_return_sequences=1,\n",
        "        no_repeat_ngram_size=3,\n",
        "        do_sample=True,\n",
        "        temperature=0.8,\n",
        "        top_k=50,\n",
        "        top_p=0.9,\n",
        "    )\n",
        "\n",
        "    # Decode and return the generated text\n",
        "    answer = gpt2_tokenizer.decode(outputs[0], skip_special_tokens=True)\n",
        "    return answer"
      ],
      "metadata": {
        "id": "umqWbAxgIkka"
      },
      "execution_count": null,
      "outputs": []
    },
    {
      "cell_type": "code",
      "source": [
        "# query = \"solar system\"\n",
        "# top_chunks, similarities = search_faiss_index(query, faiss_index, text_chunks, top_k=3, similarity_threshold=0.2)"
      ],
      "metadata": {
        "id": "_s_Z8sAQHy2U"
      },
      "execution_count": null,
      "outputs": []
    },
    {
      "cell_type": "code",
      "source": [
        "query = \"solar system\"\n",
        "top_chunks, similarities = search_faiss_index(query, faiss_index, text_chunks, top_k=3, similarity_threshold=0.2)\n",
        "\n",
        "# Example usage:\n",
        "if top_chunks == \"I don't know.\":\n",
        "    print(top_chunks)  # Prints \"I don't know.\" if similarity is below threshold\n",
        "else:\n",
        "    long_answer = generate_long_answer_gpt2(query, top_chunks, max_length=300)\n",
        "    # long_answer.replace('\\n', ' ')\n",
        "    print(long_answer)"
      ],
      "metadata": {
        "colab": {
          "base_uri": "https://localhost:8080/"
        },
        "id": "1oHHfGEyIBrO",
        "outputId": "125fb4bf-648d-49bf-cace-9178b5d495d9"
      },
      "execution_count": null,
      "outputs": [
        {
          "output_type": "stream",
          "name": "stdout",
          "text": [
            "Q: solar system\n",
            "A: The Solar System is a fascinating and complex structure, governed by the\n",
            "gravitational pull of the Sun at its center This system consists of a variety\n",
            "of celestial bodies, including eight planets, moons, asteroids, comets, and\n",
            "more Each planet has unique characteristics that contribute to the diversity\n",
            "of our cosmic neighborhood The Sun provides the energy and gravitational\n",
            "force that holds the solar system together, while the planets follow elliptical\n",
            "orbits around it In this detailed exploration, we’ll focus on the Sun, Earth,\n",
            "Mars, Jupiter, Saturn, Uranus, and Neptune, outlining their key features\n",
            "and importance within the system.\n",
            "The Sun\n",
            "The Sun is the heart of the solar system and accounts for about 99.86% of\n",
            "its total mass It is classified as a G-type main-sequence star (often called\n",
            "a yellow dwarf) and is located approximately 93 million miles (150 million\n",
            "kilometers) from Earth The Sun's immense gravity governs the orbits of\n",
            "all the planets and celestial objects in the solar system Composed mostly\n",
            "of hydrogen and helium, the Sun generates energy through nuclear\n",
            "fusion, where hydrogen atoms combine to form helium, releasing energy in\n",
            "the form of light and heat.\n",
            "The Sun’s structure consists of several layers: the core, where nuclear\n",
            "fusion occurs; the radiative zone, where energy is transported outward by\n",
            "radiation; the convective zone, which is the region where\n"
          ]
        }
      ]
    },
    {
      "cell_type": "markdown",
      "source": [
        "# **Other Work:**\n",
        "\n"
      ],
      "metadata": {
        "id": "5-5Nky4dIb4i"
      }
    },
    {
      "cell_type": "markdown",
      "source": [
        "**1. Relevent Ans**\n",
        "(deepset/roberta-base-squad2)"
      ],
      "metadata": {
        "id": "8zsnG_FwPNip"
      }
    },
    {
      "cell_type": "code",
      "source": [
        "from transformers import pipeline\n",
        "\n",
        "# Initialize a question-answering pipeline using a pre-trained model (like T5 or BART)\n",
        "qa_pipeline = pipeline(\"question-answering\", model=\"deepset/roberta-base-squad2\")\n",
        "\n",
        "# Function to get answers from the retrieved chunks\n",
        "def get_answer_from_chunks(query, text_chunks):\n",
        "    answers = []\n",
        "    for chunk in text_chunks:\n",
        "        try:\n",
        "            answer = qa_pipeline({'question': query, 'context': chunk})\n",
        "            answers.append(answer['answer'])\n",
        "        except:\n",
        "            continue\n",
        "    return answers\n",
        "\n",
        "# Example usage\n",
        "answers = get_answer_from_chunks(query, top_chunks)\n",
        "for i, answer in enumerate(answers):\n",
        "    print(f\"Answer {i+1}: {answer}\")\n"
      ],
      "metadata": {
        "colab": {
          "base_uri": "https://localhost:8080/"
        },
        "id": "RVk_SBhHF_GL",
        "outputId": "53dc7c9e-d8d1-4147-d453-09102317af41"
      },
      "execution_count": null,
      "outputs": [
        {
          "output_type": "stream",
          "name": "stdout",
          "text": [
            "Answer 1: \n",
            "only of feature values without any known labels\n",
            "Answer 2: \n",
            "only of feature values without any known labels\n",
            "Answer 3: \n",
            "only of feature values without any known labels\n"
          ]
        }
      ]
    },
    {
      "cell_type": "markdown",
      "source": [
        "**2. Using a Summarization Model for Generating Detailed Answers**\n",
        "(facebook/bart-large-cnn)"
      ],
      "metadata": {
        "id": "Wkb-BEFYOwVp"
      }
    },
    {
      "cell_type": "code",
      "source": [
        "from transformers import pipeline\n",
        "\n",
        "# Initialize a summarization pipeline using a pre-trained model (like T5 or BART)\n",
        "summarizer = pipeline(\"summarization\", model=\"facebook/bart-large-cnn\")\n",
        "\n",
        "# Function to summarize retrieved text chunks into a longer answer\n",
        "def generate_long_answer_summarizer(query, text_chunks, max_length=500):\n",
        "    context = \" \".join(text_chunks)  # Join chunks for summarization\n",
        "    summary = summarizer(context, max_length=max_length, min_length=100, do_sample=False)\n",
        "    return summary[0]['summary_text']\n",
        "\n",
        "# Example usage:\n",
        "long_answer = generate_long_answer_summarizer(query, top_chunks, max_length=500)\n",
        "print(long_answer)\n"
      ],
      "metadata": {
        "colab": {
          "base_uri": "https://localhost:8080/"
        },
        "id": "y0AhVC_7I9pS",
        "outputId": "a39f4018-8fe3-494c-c1b4-fcd5fc40039e"
      },
      "execution_count": null,
      "outputs": [
        {
          "output_type": "stream",
          "name": "stdout",
          "text": [
            "Overfitting occurs when a model learns the training data too well, capturing noise and irrelevant patterns, leading to poor generalization on unseen data. Underfitting, on the other hand, happens when the model is too simple to capture the underlying structure of the data. Techniques for handling imbalanced datasets in machine learning include resampling and cross-validation. The bias -variance tradeoff refers to the balance between bias and variance in predictive models. High bias can cause underfitting, while high variance can lead to overfitting. It's crucial to find a balance to minimize both errors.\n"
          ]
        }
      ]
    },
    {
      "cell_type": "code",
      "source": [
        "# query = \"Ecorouting\"\n",
        "# top_chunks, similarities = search_faiss_index(query, faiss_index, text_chunks, top_k=3, similarity_threshold=0.2)\n",
        "\n",
        "# if top_chunks == \"I don't know.\":\n",
        "#     print(top_chunks)  # Prints \"I don't know.\" if similarity is below threshold\n",
        "# else:\n",
        "#     for i, chunk in enumerate(top_chunks):\n",
        "#         print(f\"Result {i+1} (similarity {similarities[i]:.2f}):\\n{chunk}\\n\")"
      ],
      "metadata": {
        "colab": {
          "base_uri": "https://localhost:8080/"
        },
        "id": "YTp3n4ywGiAa",
        "outputId": "85b02658-b00f-42da-825d-c62f7125ff1f"
      },
      "execution_count": null,
      "outputs": [
        {
          "output_type": "stream",
          "name": "stdout",
          "text": [
            "I don't know.\n"
          ]
        }
      ]
    }
  ]
}